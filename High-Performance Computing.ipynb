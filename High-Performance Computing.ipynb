{
 "cells": [
  {
   "cell_type": "markdown",
   "metadata": {},
   "source": [
    "*Donald Knuth: \"Premature optimization is the root of all evil\"*\n",
    "\n",
    "**Оригинал**: https://ipython-books.github.io/chapter-5-high-performance-computing/"
   ]
  },
  {
   "cell_type": "markdown",
   "metadata": {},
   "source": [
    "- Компиляция [Just-In-Time (JIT)](https://ru.wikipedia.org/wiki/JIT-%D0%BA%D0%BE%D0%BC%D0%BF%D0%B8%D0%BB%D1%8F%D1%86%D0%B8%D1%8F) кода Python.\n",
    "- Использование языка более низкого уровня, такого как C, из Python.\n",
    "- Распределение задач между несколькими вычислительными блоками с использованием параллельных вычислений."
   ]
  },
  {
   "cell_type": "markdown",
   "metadata": {},
   "source": [
    "### Компиляция Just-In-Time (JIT) кода Python\n",
    "\n",
    "Благодаря JIT код Python динамически компилируется в язык более низкого уровня. Компиляция происходит во время выполнения, а не перед выполнением. Переведенный код работает быстрее, поскольку он компилируется, а не интерпретируется. JIT-компиляция является популярной техникой, поскольку она может привести к быстрым и высокоуровневым языкам, в то время как эти две характеристики раньше были взаимоисключающими.\n",
    "\n",
    "Методы JIT-компиляции реализованы в таком пакете, как **Numba**.\n",
    "\n",
    "PyPy ([официальный сайт](http://pypy.org) и [блог](https://morepypy.blogspot.com/)) - альтернативная реализация Python (эталонная реализация CPython) включает JIT-компилятор. "
   ]
  },
  {
   "cell_type": "markdown",
   "metadata": {},
   "source": [
    "PyPy состоит из стандартного интерпретатора и транслятора.\n",
    "\n",
    "Интерпретатор полностью реализует язык Python. Сам интерпретатор написан на ограниченном подмножестве этого же языка, называемом RPython (Restricted Python). В отличие от стандартного Python, [RPython](https://rpython.readthedocs.io/en/latest/architecture.html) является статически типизированным для более эффективной компиляции.\n",
    "\n",
    "Транслятор является набором инструментов, который анализирует код RPython и переводит его в языки более низкого уровня, такие как C, байт-код Java или CIL. Он также поддерживает подключаемые сборщики мусора и позволяет опционально включать [Stackless](https://ru.wikipedia.org/wiki/Stackless_Python). Также он включает JIT-компилятор для трансляции кода в машинные инструкции во время исполнения программы."
   ]
  },
  {
   "cell_type": "markdown",
   "metadata": {},
   "source": [
    "### Использование языка более низкого уровня\n",
    "\n",
    "Использование языка более низкого уровня, такого как C, является еще одним интересным методом. Популярные библиотеки включают в себя ctypes и Cython. Использование ctypes требует написания кода на C и наличия доступа к компилятору C или использования скомпилированной библиотеки C. В отличие от этого, Cython позволяет писать код в расширенном наборе Python, который переводится в C с различными результатами производительности. "
   ]
  },
  {
   "cell_type": "markdown",
   "metadata": {},
   "source": [
    "### CPython and concurrent programming\n",
    "\n",
    "Основной реализацией языка Python является CPython, написанный на C. CPython интегрирует механизм, называемый Global Interpreter Lock (GIL). Как упоминалось на http://wiki.python.org/moin/GlobalInterpreterLock: \n",
    "\n",
    "«GIL облегчает управление памятью, предотвращая одновременное выполнение байт-кодом Python нескольких собственных потоков».\n",
    "\n",
    "Другими словами, отключая параллельные потоки в одном процессе Python, GIL значительно упрощает систему управления памятью. Поэтому управление памятью не является поточно-ориентированным в CPython.\n",
    "\n",
    "Важным выводом является то, что CPython делает нетривиальным использование нескольких процессоров в одном процессе Python. Это важная проблема, поскольку современные процессоры содержат все больше и больше ядер.\n",
    "\n",
    "Какие возможные решения у нас есть, чтобы воспользоваться преимуществами многоядерных процессоров?"
   ]
  },
  {
   "cell_type": "markdown",
   "metadata": {},
   "source": [
    "- Удаление GIL в CPython. Это решение было опробовано, но никогда не входило в CPython. Это приведет к слишком большой сложности при реализации CPython и ухудшит производительность однопоточных программ.\n",
    "\n",
    "- Использование нескольких процессов вместо нескольких потоков. Это популярное решение; это можно сделать с помощью собственного многопроцессорного модуля или с помощью IPython. \n",
    "\n",
    "- Переписать определенные части кода на Cython и заменить все переменные Python переменными C. Это позволяет временно удалить GIL в цикле, что позволяет использовать многоядерные процессоры. \n",
    "\n",
    "- Реализация определенной части кода на языке, который предлагает лучшую поддержку для многоядерных процессоров, и вызов его из вашей программы Python.\n",
    "\n",
    "- При создании кода используйте функции NumPy, которые получают преимущества от многоядерных процессоров, таких как numpy.dot (). NumPy необходимо скомпилировать с помощью BLAS / LAPACK / ATLAS / MKL.\n",
    "\n",
    "Обязательную для прочтения ссылку на GIL можно найти по адресу http://www.dabeaz.com/GIL/.\n"
   ]
  },
  {
   "cell_type": "markdown",
   "metadata": {},
   "source": [
    "### Инструкции по установке, связанные с компилятором\n",
    "\n",
    "В Linux необходимо установить gcc. Например, в Ubuntu введите sudo apt-get install build-essential в терминале.\n",
    "\n",
    "В macOS установите Xcode или Инструменты командной строки Xcode. Или введите gcc в терминале. Если он не установлен, macOS предоставит вам несколько вариантов его установки.\n",
    "\n",
    "В Windows установите версию Microsoft Visual Studio, Visual C++ или Visual C++ Build Tools, соответствующую вашей версии Python. Если вы используете Python 3.6, соответствующая версия компилятора Microsoft - 2017. Все эти программы бесплатны или имеют бесплатную версию, достаточную для Python.\n",
    "\n",
    "Вот несколько ссылок:\n",
    "\n",
    "- Документация по установке Cython по адресу http://cython.readthedocs.io/en/latest/src/quickstart/install.html.\n",
    "- Компиляторы Windows для Python, по адресу https://wiki.python.org/moin/WindowsCompilers\n",
    "- Microsoft Visual Studio можно загрузить по адресу https://www.visualstudio.com/downloads/."
   ]
  },
  {
   "cell_type": "markdown",
   "metadata": {},
   "source": [
    "### Знание Python для написания более быстрого кода"
   ]
  },
  {
   "cell_type": "markdown",
   "metadata": {},
   "source": [
    "Первый способ заставить код Python работать быстрее - это знать все возможности языка. Python содержит множество синтаксических функций и модулей в стандартной библиотеке, которые работают намного быстрее, чем все, что вы можете написать вручную. Более того, хотя Python может работать медленно, если вы пишете на Python, как если бы вы писали на C или Java, он часто бывает достаточно быстрым, когда вы пишете Python-код.\n",
    "\n",
    "В этом разделе мы покажем, как плохо написанный код Python может быть значительно улучшен при использовании всех возможностей языка.\n",
    "\n",
    "`\n",
    "Помните про использование NumPy для эффективных операций с массивами\n",
    "`"
   ]
  },
  {
   "cell_type": "markdown",
   "metadata": {},
   "source": [
    "1. Давайте определим список нормально распределенных случайных величин, используя вместо NumPy встроенный случайный модуль."
   ]
  },
  {
   "cell_type": "code",
   "execution_count": null,
   "metadata": {},
   "outputs": [],
   "source": [
    "import random\n",
    "l = [random.normalvariate(0, 1) for i in range(100000)]"
   ]
  },
  {
   "cell_type": "markdown",
   "metadata": {},
   "source": [
    "2. Давайте напишем функцию, которая вычисляет сумму всех чисел в этом списке. Кто-то неопытный с Python может написать на Python, как если бы это был C, который дал бы следующую функцию:"
   ]
  },
  {
   "cell_type": "code",
   "execution_count": null,
   "metadata": {},
   "outputs": [],
   "source": [
    "def sum1():\n",
    "    # BAD: not Pythonic and slow\n",
    "    res = 0\n",
    "    for i in range(len(l)):\n",
    "        res = res + l[i]\n",
    "    return res"
   ]
  },
  {
   "cell_type": "code",
   "execution_count": null,
   "metadata": {},
   "outputs": [],
   "source": [
    "sum1()"
   ]
  },
  {
   "cell_type": "code",
   "execution_count": null,
   "metadata": {},
   "outputs": [],
   "source": [
    "%timeit sum1()"
   ]
  },
  {
   "cell_type": "markdown",
   "metadata": {},
   "source": [
    "5 миллисекунд для вычисления суммы «только» 100 000 чисел являются медленными, что может заставить некоторых людей довольно несправедливо сказать, что «Python медленный»."
   ]
  },
  {
   "cell_type": "markdown",
   "metadata": {},
   "source": [
    "3. Теперь давайте напишем слегка улучшенную версию этого кода, учитывая тот факт, что мы можем перечислять элементы списка, используя `for x in l` вместо итерации с индексом:"
   ]
  },
  {
   "cell_type": "code",
   "execution_count": null,
   "metadata": {},
   "outputs": [],
   "source": [
    "def sum2():\n",
    "    # STILL BAD\n",
    "    res = 0\n",
    "    for x in l:\n",
    "        res = res + x\n",
    "    return res"
   ]
  },
  {
   "cell_type": "code",
   "execution_count": null,
   "metadata": {},
   "outputs": [],
   "source": [
    "sum2()"
   ]
  },
  {
   "cell_type": "code",
   "execution_count": null,
   "metadata": {},
   "outputs": [],
   "source": [
    "%timeit sum2()"
   ]
  },
  {
   "cell_type": "markdown",
   "metadata": {},
   "source": [
    "Эта небольшая модификация дала нам почти двукратное улучшение скорости."
   ]
  },
  {
   "cell_type": "markdown",
   "metadata": {},
   "source": [
    "Наконец, мы помним, что в Python есть встроенная функция для вычисления суммы всех элементов в списке:"
   ]
  },
  {
   "cell_type": "code",
   "execution_count": null,
   "metadata": {},
   "outputs": [],
   "source": [
    "def sum3():\n",
    "    # GOOD\n",
    "    return sum(l)"
   ]
  },
  {
   "cell_type": "code",
   "execution_count": null,
   "metadata": {},
   "outputs": [],
   "source": [
    "sum3()"
   ]
  },
  {
   "cell_type": "code",
   "execution_count": null,
   "metadata": {},
   "outputs": [],
   "source": [
    "%timeit sum3()"
   ]
  },
  {
   "cell_type": "markdown",
   "metadata": {},
   "source": [
    "Эта версия в 17 раз быстрее первой, и мы написали только чистый код на Python!"
   ]
  },
  {
   "cell_type": "markdown",
   "metadata": {},
   "source": [
    "4. Давайте перейдем к другому примеру со строками. Мы создаем список строк, представляющих все числа в нашем предыдущем списке:"
   ]
  },
  {
   "cell_type": "code",
   "execution_count": null,
   "metadata": {},
   "outputs": [],
   "source": [
    "strings = ['%.3f' % x for x in l]"
   ]
  },
  {
   "cell_type": "code",
   "execution_count": null,
   "metadata": {},
   "outputs": [],
   "source": [
    "strings[:3]"
   ]
  },
  {
   "cell_type": "markdown",
   "metadata": {},
   "source": [
    "5. Мы определяем функцию, объединяющую все строки в этом списке. Опять же, неопытный программист на Python может написать такой код:"
   ]
  },
  {
   "cell_type": "code",
   "execution_count": null,
   "metadata": {},
   "outputs": [],
   "source": [
    "def concat1():\n",
    "    # BAD: not Pythonic\n",
    "    cat = strings[0]\n",
    "    for s in strings[1:]:\n",
    "        cat = cat + ', ' + s\n",
    "    return cat"
   ]
  },
  {
   "cell_type": "code",
   "execution_count": null,
   "metadata": {},
   "outputs": [],
   "source": [
    "concat1()[:24]"
   ]
  },
  {
   "cell_type": "code",
   "execution_count": null,
   "metadata": {},
   "outputs": [],
   "source": [
    "%timeit concat1()"
   ]
  },
  {
   "cell_type": "markdown",
   "metadata": {},
   "source": [
    "Эта функция очень медленная, потому что выделяется большое количество маленьких строк."
   ]
  },
  {
   "cell_type": "markdown",
   "metadata": {},
   "source": [
    "6. Далее вспомним, что Python предлагает возможность легко объединить несколько строк:"
   ]
  },
  {
   "cell_type": "code",
   "execution_count": null,
   "metadata": {},
   "outputs": [],
   "source": [
    "def concat2():\n",
    "    # GOOD\n",
    "    return ', '.join(strings)"
   ]
  },
  {
   "cell_type": "code",
   "execution_count": null,
   "metadata": {},
   "outputs": [],
   "source": [
    "concat2()[:24]"
   ]
  },
  {
   "cell_type": "code",
   "execution_count": null,
   "metadata": {},
   "outputs": [],
   "source": [
    "%timeit concat2()"
   ]
  },
  {
   "cell_type": "markdown",
   "metadata": {},
   "source": [
    "Эта функция в 1640 раз быстрее!"
   ]
  },
  {
   "cell_type": "markdown",
   "metadata": {},
   "source": [
    "7. Наконец, мы хотим подсчитать количество вхождений всех чисел от 0 до 99 в списке, содержащем 100 000 целых чисел от 0 до 99:"
   ]
  },
  {
   "cell_type": "code",
   "execution_count": null,
   "metadata": {},
   "outputs": [],
   "source": [
    "l = [random.randint(0, 100) for _ in range(100000)]"
   ]
  },
  {
   "cell_type": "markdown",
   "metadata": {},
   "source": [
    "8. Наивным способом было бы перебрать все элементы в списке и создать гистограмму со словарем:"
   ]
  },
  {
   "cell_type": "code",
   "execution_count": null,
   "metadata": {},
   "outputs": [],
   "source": [
    "def hist1():\n",
    "    # BAD\n",
    "    count = {}\n",
    "    for x in l:\n",
    "        # We need to initialize every number\n",
    "        # the first time it appears in the list.\n",
    "        if x not in count:\n",
    "            count[x] = 0\n",
    "        count[x] += 1\n",
    "    return count"
   ]
  },
  {
   "cell_type": "code",
   "execution_count": null,
   "metadata": {},
   "outputs": [],
   "source": [
    "hist1()"
   ]
  },
  {
   "cell_type": "code",
   "execution_count": null,
   "metadata": {},
   "outputs": [],
   "source": [
    "%timeit hist1()"
   ]
  },
  {
   "cell_type": "markdown",
   "metadata": {},
   "source": [
    "9. Далее вспомним, что Python предлагает структуру defaultdict, которая обрабатывает автоматическое создание ключей словаря:"
   ]
  },
  {
   "cell_type": "code",
   "execution_count": null,
   "metadata": {},
   "outputs": [],
   "source": [
    "from collections import defaultdict\n",
    "\n",
    "def hist2():\n",
    "    # BETTER\n",
    "    count = defaultdict(int)\n",
    "    for x in l:\n",
    "        # The key is created and the value\n",
    "        # initialized at 0 when needed.\n",
    "        count[x] += 1\n",
    "    return count"
   ]
  },
  {
   "cell_type": "code",
   "execution_count": null,
   "metadata": {},
   "outputs": [],
   "source": [
    "%timeit hist2()"
   ]
  },
  {
   "cell_type": "markdown",
   "metadata": {},
   "source": [
    "10. Наконец, мы понимаем, что встроенный модуль коллекций предлагает класс Counter, который делает именно то, что нам нужно:"
   ]
  },
  {
   "cell_type": "code",
   "execution_count": null,
   "metadata": {},
   "outputs": [],
   "source": [
    "from collections import Counter\n",
    "\n",
    "def hist3():\n",
    "    # GOOD\n",
    "    return Counter(l)"
   ]
  },
  {
   "cell_type": "code",
   "execution_count": null,
   "metadata": {},
   "outputs": [],
   "source": [
    "%timeit hist3()"
   ]
  },
  {
   "cell_type": "markdown",
   "metadata": {},
   "source": [
    "Когда ваш код слишком медленный, первым делом убедитесь, что вы не изобретаете велосипед и что вы эффективно используете все возможности языка."
   ]
  },
  {
   "cell_type": "markdown",
   "metadata": {},
   "source": [
    "### Ускорение чистого кода Python с помощью Numba и just-in-time компиляция\n",
    "\n",
    "[Numba](http://numba.pydata.org) - это пакет, созданный Anaconda, Inc (http://www.anaconda.com). Numba берет чистый код Python и автоматически переводит его (just-in-time) в оптимизированный машинный код. \n",
    "\n",
    "[Архитектура Numba](https://numba.pydata.org/numba-doc/dev/developer/architecture.html)\n",
    "\n",
    "На практике это означает, что мы можем написать не векторизованную функцию на чистом Python, используя циклы for, и автоматически векторизовать эту функцию с помощью одного декоратора. Повышение производительности по сравнению с чистым кодом Python может достигать нескольких порядков и может даже превосходить векторизованный вручную код NumPy.\n",
    "\n",
    "Покажем, как ускорить чистый код Python, генерирующий фрактал Мандельброта."
   ]
  },
  {
   "cell_type": "markdown",
   "metadata": {},
   "source": [
    "1. Давайте импортируем NumPy и определим несколько переменных:"
   ]
  },
  {
   "cell_type": "code",
   "execution_count": null,
   "metadata": {},
   "outputs": [],
   "source": [
    "import numpy as np\n",
    "import matplotlib.pyplot as plt\n",
    "%matplotlib inline"
   ]
  },
  {
   "cell_type": "code",
   "execution_count": null,
   "metadata": {},
   "outputs": [],
   "source": [
    "size = 400\n",
    "iterations = 100"
   ]
  },
  {
   "cell_type": "markdown",
   "metadata": {},
   "source": [
    "2. Следующая функция генерирует фрактал в чистом Python. Он принимает пустой массив `m` в качестве аргумента."
   ]
  },
  {
   "cell_type": "code",
   "execution_count": null,
   "metadata": {},
   "outputs": [],
   "source": [
    "def mandelbrot_python(size, iterations):\n",
    "    m = np.zeros((size, size))\n",
    "    for i in range(size):\n",
    "        for j in range(size):\n",
    "            c = (-2 + 3. / size * j +\n",
    "                 1j * (1.5 - 3. / size * i))\n",
    "            z = 0\n",
    "            for n in range(iterations):\n",
    "                if np.abs(z) <= 10:\n",
    "                    z = z * z + c\n",
    "                    m[i, j] = n\n",
    "                else:\n",
    "                    break\n",
    "    return m"
   ]
  },
  {
   "cell_type": "markdown",
   "metadata": {},
   "source": [
    "3. Давайте запустим симуляцию и покажем фрактал:"
   ]
  },
  {
   "cell_type": "code",
   "execution_count": null,
   "metadata": {},
   "outputs": [],
   "source": [
    "m = mandelbrot_python(size, iterations)\n",
    "\n",
    "fig, ax = plt.subplots(1, 1, figsize=(10, 10))\n",
    "ax.imshow(np.log(m), cmap=plt.cm.hot)\n",
    "ax.set_axis_off()"
   ]
  },
  {
   "cell_type": "markdown",
   "metadata": {},
   "source": [
    "4. Теперь мы оцениваем время, затраченное этой функцией:"
   ]
  },
  {
   "cell_type": "code",
   "execution_count": null,
   "metadata": {},
   "outputs": [],
   "source": [
    "%timeit mandelbrot_python(size, iterations)"
   ]
  },
  {
   "cell_type": "markdown",
   "metadata": {},
   "source": [
    "5. Попробуем ускорить эту функцию с помощью Numba. Сначала мы импортируем пакет:"
   ]
  },
  {
   "cell_type": "code",
   "execution_count": null,
   "metadata": {},
   "outputs": [],
   "source": [
    "from numba import jit"
   ]
  },
  {
   "cell_type": "markdown",
   "metadata": {},
   "source": [
    "6. Затем мы добавляем декоратор @jit прямо над определением функции, не меняя ни одной строки кода в теле функции:"
   ]
  },
  {
   "cell_type": "code",
   "execution_count": null,
   "metadata": {},
   "outputs": [],
   "source": [
    "@jit\n",
    "def mandelbrot_numba(size, iterations):\n",
    "    m = np.zeros((size, size))\n",
    "    for i in range(size):\n",
    "        for j in range(size):\n",
    "            c = (-2 + 3. / size * j +\n",
    "                 1j * (1.5 - 3. / size * i))\n",
    "            z = 0\n",
    "            for n in range(iterations):\n",
    "                if np.abs(z) <= 10:\n",
    "                    z = z * z + c\n",
    "                    m[i, j] = n\n",
    "                else:\n",
    "                    break\n",
    "    return m"
   ]
  },
  {
   "cell_type": "markdown",
   "metadata": {},
   "source": [
    "7. Эта функция работает так же, как и в чистой версии Python. Насколько быстрее это?"
   ]
  },
  {
   "cell_type": "code",
   "execution_count": null,
   "metadata": {},
   "outputs": [],
   "source": [
    "mandelbrot_numba(size, iterations)"
   ]
  },
  {
   "cell_type": "code",
   "execution_count": null,
   "metadata": {},
   "outputs": [],
   "source": [
    "%timeit mandelbrot_numba(size, iterations)"
   ]
  },
  {
   "cell_type": "markdown",
   "metadata": {},
   "source": [
    "Версия Numba примерно в 150 раз быстрее, чем версия Python!"
   ]
  },
  {
   "cell_type": "markdown",
   "metadata": {},
   "source": [
    "В Python все блоки кода компилируются в байт-код:"
   ]
  },
  {
   "cell_type": "code",
   "execution_count": null,
   "metadata": {},
   "outputs": [],
   "source": [
    "import dis\n",
    "dis.dis(mandelbrot_numba)"
   ]
  },
  {
   "cell_type": "markdown",
   "metadata": {},
   "source": [
    "### Как это работает?\n",
    "\n",
    "Чтобы оптимизировать код Python, Numba берет байт-код из предоставленной функции и запускает на ней набор анализаторов. Байт-код Python содержит последовательность небольших и простых инструкций, поэтому можно восстановить логику функции из байт-кода без использования исходного кода из реализации Python. Процесс преобразования включает в себя много этапов, но в результате Numba переводит байт-код Python в промежуточное представление [LLVM](https://ru.wikipedia.org/wiki/LLVM) (IR).\n",
    "\n",
    "Обратите внимание, что LLVM IR - это низкоуровневый язык программирования, который похож на синтаксис ассемблера и не имеет ничего общего с Python.\n",
    "\n",
    "[Видео про LLVM IR для графики](https://www.youtube.com/watch?v=YWwNIbOaH8U)\n",
    "[IR is better than assembly](https://idea.popcount.org/2013-07-24-ir-is-better-than-assembly/)\n",
    "[Теория компиляции](https://ps-group.github.io/compilers/)\n",
    "[Презентация Intel](https://academy.hpc-russia.ru/files/msu-llvm-lecture.pdf)\n",
    "\n",
    "В Numba есть два режима: nopythonи object. Первый не использует среду выполнения Python и создает собственный код без зависимостей Python. Нативный код статически типизирован и работает очень быстро. Принимая во внимание, что объектный режим использует объекты Python и Python C API, что часто не дает значительных улучшений скорости. В обоих случаях код Python компилируется с использованием LLVM.\n",
    "\n",
    "LLVM - это компилятор, который берет специальное промежуточное представление (IR) кода и компилирует его в собственный (машинный) код. Процесс компиляции включает в себя множество дополнительных проходов, в которых компилятор оптимизирует IR. LLVM toolchain очень хорош в оптимизации IR, поэтому он не только компилирует код для Numba, но и оптимизирует его.\n",
    "\n",
    "Вся система выглядит примерно так ([подробнее](https://numba.pydata.org/numba-doc/dev/developer/architecture.html)):\n",
    "\n",
    "<img width=\"300\" alt=\"portfolio_view\" src=\"https://raw.githubusercontent.com/dm-fedorov/pm3sem/master/pic/alg.jpg\">\n"
   ]
  },
  {
   "cell_type": "markdown",
   "metadata": {},
   "source": [
    "Обычно Numba дает наиболее впечатляющие ускорения для функций, которые включают в себя плотные циклы на массивах NumPy (например, в этом рецепте). Это связано с тем, что в Python есть служебные циклы, и эти издержки становятся пренебрежимо малыми, когда существует много итераций нескольких дешевых операций. В этом примере число итераций равно `size * size * iterations = 16 000 000`."
   ]
  },
  {
   "cell_type": "markdown",
   "metadata": {},
   "source": [
    "Давайте сравним производительность Numba с векторизованным вручную кодом, используя NumPy, который является стандартным способом ускорения чистого кода Python, такого как код, приведенный в этом рецепте. На практике это означает замену кода внутри двух циклов над `i` и `j` вычислениями массива. Здесь это относительно просто, поскольку операции строго следуют парадигме «Одна инструкция, несколько данных» (Single Instruction, Multiple Data - SIMD):"
   ]
  },
  {
   "cell_type": "code",
   "execution_count": null,
   "metadata": {},
   "outputs": [],
   "source": [
    "def initialize(size):\n",
    "    x, y = np.meshgrid(np.linspace(-2, 1, size),\n",
    "                       np.linspace(-1.5, 1.5, size))\n",
    "    c = x + 1j * y\n",
    "    z = c.copy()\n",
    "    m = np.zeros((size, size))\n",
    "    return c, z, m"
   ]
  },
  {
   "cell_type": "code",
   "execution_count": null,
   "metadata": {},
   "outputs": [],
   "source": [
    "def mandelbrot_numpy(c, z, m, iterations):\n",
    "    for n in range(iterations):\n",
    "        indices = np.abs(z) <= 10\n",
    "        z[indices] = z[indices] ** 2 + c[indices]\n",
    "        m[indices] = n"
   ]
  },
  {
   "cell_type": "code",
   "execution_count": null,
   "metadata": {},
   "outputs": [],
   "source": [
    "%%timeit -n1 -r10 c, z, m = initialize(size)\n",
    "mandelbrot_numpy(c, z, m, iterations)"
   ]
  },
  {
   "cell_type": "markdown",
   "metadata": {},
   "source": [
    "В этом примере Numba по-прежнему превосходит NumPy.\n",
    "\n",
    "Numba поддерживает множество других функций, таких как многопроцессорность и вычисления на GPU."
   ]
  },
  {
   "cell_type": "markdown",
   "metadata": {},
   "source": [
    "Введение: https://nyu-cds.github.io/python-numba/\n",
    "\n",
    "Мануал: http://numba.pydata.org/numba-doc/latest/reference/index.html\n",
    "\n",
    "[Использование Numba для ускорения](http://www.machinelearning.ru/wiki/images/0/0a/Numba_presentation.pdf)\n",
    "\n"
   ]
  },
  {
   "cell_type": "markdown",
   "metadata": {},
   "source": [
    "### Cython\n",
    "\n",
    "Cython - это и язык (надмножество Python), и библиотека Python. С помощью Cython мы начинаем с обычной программы на Python и добавляем аннотации о типе переменных. Затем **Cython переводит этот код в C и компилирует результат в модуль расширения Python**. Наконец, мы можем использовать этот скомпилированный модуль в любой программе на Python.\n",
    "\n",
    "В то время как динамическая типизация требует затрат производительности в Python, статически типизированные переменные в Cython обычно приводят к более быстрому выполнению кода.\n",
    "\n",
    "Повышение производительности является наиболее значительным в программах, связанных с процессором, особенно в тесных циклах Python. В отличие от этого, программы, связанные с вводом / выводом, вряд ли выиграют от реализации Cython.\n",
    "\n",
    "Посмотрим, как ускорить пример кода Мандельброта с помощью Cython."
   ]
  },
  {
   "cell_type": "markdown",
   "metadata": {},
   "source": [
    "1. Давайте определим некоторые переменные:"
   ]
  },
  {
   "cell_type": "code",
   "execution_count": null,
   "metadata": {},
   "outputs": [],
   "source": [
    "import numpy as np\n",
    "\n",
    "size = 400\n",
    "iterations = 100"
   ]
  },
  {
   "cell_type": "markdown",
   "metadata": {},
   "source": [
    "2. Чтобы использовать Cython в блокноте Jupyter, нам сначала нужно импортировать расширение Cython Jupyter:"
   ]
  },
  {
   "cell_type": "code",
   "execution_count": null,
   "metadata": {},
   "outputs": [],
   "source": [
    "%load_ext cython"
   ]
  },
  {
   "cell_type": "markdown",
   "metadata": {},
   "source": [
    "3. В качестве первой попытки, давайте просто добавим `%%cython` перед определением функции `mandelbrot()`. Внутренне, эта магия компилирует ячейку в автономный модуль Cython, следовательно, необходимость выполнения всех необходимых импортов в одной и той же ячейке. Эта ячейка не имеет доступа к любой переменной или функции, определенной в интерактивном пространстве имен:"
   ]
  },
  {
   "cell_type": "code",
   "execution_count": null,
   "metadata": {},
   "outputs": [],
   "source": [
    "%%cython -a\n",
    "import numpy as np\n",
    "\n",
    "def mandelbrot_cython(m, size, iterations):\n",
    "    for i in range(size):\n",
    "        for j in range(size):\n",
    "            c = -2 + 3./size*j + 1j*(1.5-3./size*i)\n",
    "            z = 0\n",
    "            for n in range(iterations):\n",
    "                if np.abs(z) <= 10:\n",
    "                    z = z*z + c\n",
    "                    m[i, j] = n\n",
    "                else:\n",
    "                    break"
   ]
  },
  {
   "cell_type": "markdown",
   "metadata": {},
   "source": [
    "Опция `-a` указывает Cython аннотировать строки кода цветом фона, указывая, насколько он оптимизирован. Чем темнее цвет, тем менее оптимизирована строка. Цвет зависит от относительного количества вызовов API Python в каждой строке. Мы можем нажать на любую строку, чтобы увидеть сгенерированный C-код. Здесь эта версия не выглядит оптимизированной.\n",
    "\n",
    "4. Как быстро работает эта версия?"
   ]
  },
  {
   "cell_type": "code",
   "execution_count": null,
   "metadata": {},
   "outputs": [],
   "source": [
    "s = (size, size)"
   ]
  },
  {
   "cell_type": "code",
   "execution_count": null,
   "metadata": {},
   "outputs": [],
   "source": [
    "%%timeit -n1 -r1 m = np.zeros(s, dtype=np.int32)\n",
    "mandelbrot_cython(m, size, iterations)"
   ]
  },
  {
   "cell_type": "markdown",
   "metadata": {},
   "source": [
    "У нас здесь практически нет ускорения. Нам нужно указать тип наших переменных Python.\n",
    "\n",
    "5. Давайте добавим информацию о типах, используя типизированные представления памяти для массивов NumPy (мы объясним это в разделе «Как это работает ...»). Мы также используем немного другой способ проверки того, что частицы покинули домен (если проверка):"
   ]
  },
  {
   "cell_type": "code",
   "execution_count": null,
   "metadata": {},
   "outputs": [],
   "source": [
    "%%cython -a\n",
    "import numpy as np\n",
    "\n",
    "def mandelbrot_cython(int[:,::1] m,\n",
    "                      int size,\n",
    "                      int iterations):\n",
    "    cdef int i, j, n\n",
    "    cdef complex z, c\n",
    "    for i in range(size):\n",
    "        for j in range(size):\n",
    "            c = -2 + 3./size*j + 1j*(1.5-3./size*i)\n",
    "            z = 0\n",
    "            for n in range(iterations):\n",
    "                if z.real**2 + z.imag**2 <= 100:\n",
    "                    z = z*z + c\n",
    "                    m[i, j] = n\n",
    "                else:\n",
    "                    break"
   ]
  },
  {
   "cell_type": "markdown",
   "metadata": {},
   "source": [
    "5. Как быстро работает новая версия?"
   ]
  },
  {
   "cell_type": "markdown",
   "metadata": {},
   "source": [
    "Эта версия почти в 350 раз быстрее первой!\n",
    "\n",
    "Все, что мы сделали, - это указали тип локальных переменных и аргументов функций и обошли функцию NumPy `np.abs()` при вычислении абсолютного значения `z`. Эти изменения помогли Cython генерировать более оптимизированный код C из кода Python."
   ]
  },
  {
   "cell_type": "markdown",
   "metadata": {},
   "source": [
    "Ключевое слово `cdef` объявляет переменную как статически типизированную переменную C. Переменные C приводят к более быстрому выполнению кода, потому что накладные расходы от динамической типизации Python обойдены. Аргументы функции также могут быть объявлены как статически типизированные переменные Си.\n",
    "\n",
    "Существует два способа объявления массивов NumPy как переменных C в Cython: использование буферов массива или использование типизированных представлений памяти. В этом рецепте мы использовали типизированные представления памяти. Мы рассмотрим буферы массивов в следующем рецепте.\n",
    "\n",
    "Типизированные представления памяти обеспечивают эффективный доступ к буферам данных с NumPy-подобным синтаксическим индексированием. Например, мы можем использовать int [:, :: 1] для объявления C-упорядоченного 2D-массива NumPy с целочисленными значениями, где :: 1 означает непрерывный макет в этом измерении. Типизированные представления памяти могут быть проиндексированы так же, как массивы NumPy.\n",
    "\n",
    "Однако представления памяти не реализуют поэлементные операции, такие как NumPy. Таким образом, представления памяти действуют как удобные контейнеры данных в тесных циклах. Для поэлементных операций, подобных NumPy, вместо этого следует использовать буферы массива.\n",
    "\n",
    "Мы могли бы добиться значительного повышения производительности, заменив вызов `np.abs()` более быстрым выражением. Причина в том, что `np.abs()` является функцией NumPy с небольшими накладными расходами. Он предназначен для работы с относительно большими массивами, а не со скалярными значениями. Эти накладные расходы приводят к значительному снижению производительности в узком цикле, как здесь. Это узкое место можно обнаружить с помощью аннотаций Cython."
   ]
  },
  {
   "cell_type": "markdown",
   "metadata": {},
   "source": [
    "Учебник по Cython: http://docs.cython.org/en/latest/src/tutorial/cython_tutorial.html\n",
    "\n",
    "Typed Memoryviews: https://cython.readthedocs.io/en/latest/src/userguide/memoryviews.html"
   ]
  },
  {
   "cell_type": "markdown",
   "metadata": {},
   "source": [
    "Пример оптимизации на Cython: https://github.com/ipython-books/cookbook-2nd/blob/master/chapter05_hpc/06_ray.md"
   ]
  },
  {
   "cell_type": "markdown",
   "metadata": {},
   "source": [
    "Про другие способы оптимизации: https://github.com/ipython-books/cookbook-2nd/tree/master/chapter05_hpc\n",
    "\n",
    "Большой учебник по Cython: http://www.jyguagua.com/wp-content/uploads/2017/03/OReilly.Cython-A-Guide-for-Python-Programmers.pdf"
   ]
  },
  {
   "cell_type": "code",
   "execution_count": null,
   "metadata": {},
   "outputs": [],
   "source": []
  }
 ],
 "metadata": {
  "kernelspec": {
   "display_name": "Python 3",
   "language": "python",
   "name": "python3"
  },
  "language_info": {
   "codemirror_mode": {
    "name": "ipython",
    "version": 3
   },
   "file_extension": ".py",
   "mimetype": "text/x-python",
   "name": "python",
   "nbconvert_exporter": "python",
   "pygments_lexer": "ipython3",
   "version": "3.7.3"
  }
 },
 "nbformat": 4,
 "nbformat_minor": 4
}
