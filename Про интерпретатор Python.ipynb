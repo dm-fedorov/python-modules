{
 "cells": [
  {
   "cell_type": "markdown",
   "metadata": {},
   "source": [
    "![image](https://raw.githubusercontent.com/dm-fedorov/pm3sem/master/pic/virt.jpg)"
   ]
  },
  {
   "cell_type": "markdown",
   "metadata": {},
   "source": [
    "Когда интерпретатор СPython исполняет программу, он сначала ее транслирует в последовательность байткодовых инструкций. \n",
    "\n",
    "Байткод — это промежуточный язык для виртуальной машины Python, который используется в качестве оптимизации производительности. \n",
    "\n",
    "Байткод, который получается в результате этого шага компиляции, кэшируется на диске в файлах .pyc и .pyo, чтобы во второй раз исполнение того же самого файла Python проходило быстрее."
   ]
  },
  {
   "cell_type": "code",
   "execution_count": null,
   "metadata": {},
   "outputs": [],
   "source": [
    "def greet(name):\n",
    "    return 'Привет, ' + name + '!'"
   ]
  },
  {
   "cell_type": "code",
   "execution_count": null,
   "metadata": {},
   "outputs": [],
   "source": [
    "greet('Гвидо')"
   ]
  },
  {
   "cell_type": "markdown",
   "metadata": {},
   "source": [
    "Каждая функция имеет атрибут `__code__`, который мы можем использовать, чтобы получить инструкции виртуальной машины, константы и переменные, используемые нашей функцией `greet`:"
   ]
  },
  {
   "cell_type": "code",
   "execution_count": null,
   "metadata": {},
   "outputs": [],
   "source": [
    "greet.__code__.co_code"
   ]
  },
  {
   "cell_type": "code",
   "execution_count": null,
   "metadata": {},
   "outputs": [],
   "source": [
    "greet.__code__.co_consts"
   ]
  },
  {
   "cell_type": "code",
   "execution_count": null,
   "metadata": {},
   "outputs": [],
   "source": [
    "greet.__code__.co_varnames"
   ]
  },
  {
   "cell_type": "markdown",
   "metadata": {},
   "source": [
    "`co_consts` содержит части строки приветствия, которую собирает наша функция. Константы и код хранятся отдельно, чтобы сэкономить пространство памяти. \n",
    "\n",
    "Python хранит константы отдельно в поисковой таблице. Поток команд затем может ссылаться на константу по индексу в поисковой таблице. "
   ]
  },
  {
   "cell_type": "markdown",
   "metadata": {},
   "source": [
    "Дизассемблер байткода Python располагается в модуле `dis` ([документация](https://docs.python.org/3/library/dis.html?highlight=dis#module-dis)), который является составной частью стандартной библиотеки. Поэтому мы можем его просто импортировать и вызвать `dis.dis()` с функцией `greet` в качестве аргумента, чтобы получить более удобочитаемое представление о ее байткоде:"
   ]
  },
  {
   "cell_type": "code",
   "execution_count": null,
   "metadata": {},
   "outputs": [],
   "source": [
    "import dis"
   ]
  },
  {
   "cell_type": "code",
   "execution_count": null,
   "metadata": {},
   "outputs": [],
   "source": [
    "dis.dis(greet)"
   ]
  },
  {
   "cell_type": "markdown",
   "metadata": {},
   "source": [
    "Главное, что сделал дизассемблер, было разбиение потока команд и назначение каждому находящемуся в нем коду операции человекочитаемого имени, как, например, `LOAD_CONST`.\n",
    "\n",
    "Ссылки на константы и переменные теперь чередуются с байткодом и выведены полностью, чтобы уберечь нас от мозговой гимнастики относительно поиска по таблице `co_const` или `co_varnames`. \n",
    "\n",
    "Глядя на человекочитаемые коды операций, мы начинаем понимать, как Python представляет и исполняет выражение `'Привет, ' + name + '!'` в исходной функции `greet()`. \n",
    "\n",
    "Сначала он извлекает константу в индексе `1 ('Привет, ')` и помещает ее в стек. Затем он загружает содержимое переменной `name` и также помещает ее в стек.\n",
    "\n",
    "Стек является структурой данных, которая используется в качестве внутренней рабочей памяти виртуальной машины. Существуют разные классы виртуальных машин, и один из них называется стековой машиной. Виртуальная машина Python является реализацией такой стековой машины. "
   ]
  },
  {
   "cell_type": "markdown",
   "metadata": {},
   "source": [
    "Самое интересное относительно стека как абстрактной структуры данных состоит в том, что на минимальном уровне он поддерживает всего две операции: \n",
    "\n",
    "вталкивание (`push`) и выталкивание (`pop`). Вталкивание добавляет значение на вершину стека, а выталкивание удаляет и возвращает самое верхнее значение. В отличие от массива, в стеке отсутствует способ получить доступ к элементам «ниже» верхнего уровня. \n",
    "\n",
    "Давайте предположим, что вначале стек пустой. После того как первые два кода операции были исполнены, содержимое стека виртуальной машины будет выглядеть следующим образом (0 — это самый верхний элемент):\n",
    "\n",
    "```\n",
    "0: 'Гвидо' (содержимое \"name\")\n",
    "1: 'Привет, '\n",
    "```\n",
    "\n",
    "Инструкция `BINARY_ADD` выталкивает два строковых значения из стека, конкатенирует их, а затем вталкивает результат снова в стек:\n",
    "```\n",
    "0: 'Привет, Гвидо'\n",
    "```\n"
   ]
  },
  {
   "cell_type": "markdown",
   "metadata": {},
   "source": [
    "Затем идет еще одна инструкция `LOAD_CONST`, которая помещает в стек строку с восклицательным знаком:\n",
    "\n",
    "```\n",
    "0: '!'\n",
    "1: 'Привет, Гвидо'\n",
    "```\n",
    "\n",
    "Следующий код операции `BINARY_ADD` снова объединяет два значения, чтобы сгенерировать заключительную приветственную строку:\n",
    "\n",
    "```\n",
    "0: 'Привет, Гвидо!'\n",
    "```\n",
    "\n",
    "Последняя байткодовая инструкция — `RETURN_VALUE`, которая сообщает  виртуальной машине следующее: то, что в настоящее время находится на вершине стека, является возвращаемым значением этой функции, и поэтому оно может быть передано источнику вызова. "
   ]
  },
  {
   "cell_type": "markdown",
   "metadata": {},
   "source": [
    "```Python\n",
    "# пример для проведения декомпиляции\n",
    "x = 30\n",
    "y = 62\n",
    "z = x + y\n",
    "\n",
    "# python3.7 -m dis test.py\n",
    "\n",
    "'''\n",
    "  1           0 LOAD_CONST               0 (30)\n",
    "              2 STORE_NAME               0 (x)\n",
    "  2           4 LOAD_CONST               1 (62)\n",
    "              6 STORE_NAME               1 (y)\n",
    "  3           8 LOAD_NAME                0 (x)\n",
    "             10 LOAD_NAME                1 (y)\n",
    "             12 BINARY_ADD\n",
    "             14 STORE_NAME               2 (z)\n",
    "             16 LOAD_CONST               2 (None)\n",
    "             18 RETURN_VALUE\n",
    "'''\n",
    "```"
   ]
  },
  {
   "cell_type": "code",
   "execution_count": null,
   "metadata": {},
   "outputs": [],
   "source": [
    "# Пример виртуальной машины Python на языке Python:\n",
    "\n",
    "def eval(code):\n",
    "    env = {}\n",
    "    stack = []\n",
    "    for line in code.strip().splitlines():\n",
    "        op, *args = line.split()\n",
    "        print(f\"env : {env}\\nstack: {stack}\\n\")\n",
    "        if op == \"LOAD_CONST\":\n",
    "            stack.append(int(args[0]))\n",
    "        elif op == \"STORE_NAME\":\n",
    "            env[args[0]] = stack.pop()\n",
    "        elif op == \"LOAD_NAME\":\n",
    "            stack.append(env[args[0]])\n",
    "        elif op == \"BINARY_ADD\":\n",
    "            stack.append(stack.pop() + stack.pop())\n",
    "        else:\n",
    "            assert False, f\"unknown op: {op[0]}\"\n",
    "    print(f\"env : {env}\\nstack: {stack}\\n\")\n",
    "\n",
    "eval(\"\"\"\n",
    "LOAD_CONST 30\n",
    "STORE_NAME x\n",
    "LOAD_CONST 62\n",
    "STORE_NAME y\n",
    "LOAD_NAME x\n",
    "LOAD_NAME y\n",
    "BINARY_ADD\n",
    "STORE_NAME z\n",
    "\"\"\")"
   ]
  },
  {
   "cell_type": "markdown",
   "metadata": {},
   "source": [
    "### Материалы:\n",
    "- [видео про опкоды](https://www.youtube.com/watch?v=v4gdJmdBqhE)"
   ]
  },
  {
   "cell_type": "markdown",
   "metadata": {},
   "source": []
  },
  {
   "cell_type": "code",
   "execution_count": null,
   "metadata": {},
   "outputs": [],
   "source": []
  }
 ],
 "metadata": {
  "kernelspec": {
   "display_name": "Python 3",
   "language": "python",
   "name": "python3"
  },
  "language_info": {
   "codemirror_mode": {
    "name": "ipython",
    "version": 3
   },
   "file_extension": ".py",
   "mimetype": "text/x-python",
   "name": "python",
   "nbconvert_exporter": "python",
   "pygments_lexer": "ipython3",
   "version": "3.7.3"
  }
 },
 "nbformat": 4,
 "nbformat_minor": 4
}
