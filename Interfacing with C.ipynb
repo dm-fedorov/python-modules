{
 "cells": [
  {
   "cell_type": "markdown",
   "metadata": {},
   "source": [
    "Прежде чем отправиться в путь, вы должны рассмотреть ваш вариант использования. При взаимодействии с нативным кодом обычно возникает два варианта использования:\n",
    "\n",
    "- Существующий код на C / C++, который необходимо использовать либо потому, что он уже существует, либо потому, что он быстрее.\n",
    "- Код Python слишком медленный, вставьте внутренние циклы в нативный код"
   ]
  },
  {
   "cell_type": "markdown",
   "metadata": {},
   "source": [
    "Каждая технология демонстрируется упаковкой функции cos из math.h. Хотя это, в основном, тривиальный пример, он должен хорошо послужить нам для демонстрации основ решения обертывания. Поскольку каждая техника также включает некоторую форму поддержки Numpy, это также демонстрируется на примере, где косинус вычисляется для некоторого вида массива.\n",
    "\n",
    "Последнее, но не менее важное, два небольших предупреждения:\n",
    "\n",
    "- Все эти методы могут вызвать сбой (ошибка сегментации) интерпретатора Python, что (как правило) связано с ошибками в коде C.\n",
    "- Все примеры были сделаны на Linux, они должны быть возможны на других операционных системах.\n",
    "- Вам понадобится компилятор C для большинства примеров."
   ]
  },
  {
   "cell_type": "markdown",
   "metadata": {},
   "source": [
    "### Python-C-Api\n",
    "\n",
    "Python-C-API является основой стандартного интерпретатора Python (a.k.a CPython). Используя этот API, можно написать модуль расширения Python на C и C++. Очевидно, что эти модули расширения могут, в силу языковой совместимости, вызывать любую функцию, написанную на C или C++.\n",
    "\n",
    "При использовании Python-C-API обычно пишется много стандартного кода, сначала для анализа аргументов, которые были переданы функции, а затем для создания возвращаемого типа.\n",
    "\n",
    "**Преимущества**\n",
    "\n",
    "- Не требует дополнительных библиотек\n",
    "- Много контроля низкого уровня\n",
    "- Полностью используется из C++\n",
    "\n",
    "**Недостатки**\n",
    "\n",
    "- Может потребовать значительных усилий\n",
    "- Много накладных расходов в коде\n",
    "- Должен быть скомпилирован\n",
    "- Высокая стоимость обслуживания\n",
    "- Отсутствует прямая совместимость между версиями Python при изменении C-API\n",
    "- Ошибки подсчета ссылок легко создавать, и их очень трудно отследить."
   ]
  },
  {
   "cell_type": "markdown",
   "metadata": {},
   "source": [
    "**Официальная документация**: https://docs.python.org/3.8/c-api/intro.html#objects-types-and-reference-counts"
   ]
  },
  {
   "cell_type": "markdown",
   "metadata": {},
   "source": [
    "Следующий модуль C-extension делает функцию cos из стандартной математической библиотеки доступной для Python:"
   ]
  },
  {
   "cell_type": "markdown",
   "metadata": {},
   "source": [
    "```C\n",
    "/*  Example of wrapping cos function from math.h with the Python-C-API. */\n",
    "\n",
    "#include <Python.h>\n",
    "#include <math.h>\n",
    "\n",
    "/*  wrapped cosine function */\n",
    "static PyObject* cos_func(PyObject* self, PyObject* args)\n",
    "{\n",
    "    double value;\n",
    "    double answer;\n",
    "\n",
    "    /*  parse the input, from python float to c double */\n",
    "    if (!PyArg_ParseTuple(args, \"d\", &value))\n",
    "        return NULL;\n",
    "    /* if the above function returns -1, an appropriate Python exception will\n",
    "     * have been set, and the function simply returns NULL\n",
    "     */\n",
    "\n",
    "    /* call cos from libm */\n",
    "    answer = cos(value);\n",
    "\n",
    "    /*  construct the output from cos, from c double to python float */\n",
    "    return Py_BuildValue(\"f\", answer);\n",
    "}\n",
    "\n",
    "/*  define functions in module */\n",
    "static PyMethodDef CosMethods[] =\n",
    "{\n",
    "     {\"cos_func\", cos_func, METH_VARARGS, \"evaluate the cosine\"},\n",
    "     {NULL, NULL, 0, NULL}\n",
    "};\n",
    "\n",
    "#if PY_MAJOR_VERSION >= 3\n",
    "/* module initialization */\n",
    "/* Python version 3*/\n",
    "static struct PyModuleDef cModPyDem =\n",
    "{\n",
    "    PyModuleDef_HEAD_INIT,\n",
    "    \"cos_module\", \"Some documentation\",\n",
    "    -1,\n",
    "    CosMethods\n",
    "};\n",
    "\n",
    "PyMODINIT_FUNC\n",
    "PyInit_cos_module(void)\n",
    "{\n",
    "    return PyModule_Create(&cModPyDem);\n",
    "}\n",
    "\n",
    "#else\n",
    "\n",
    "/* module initialization */\n",
    "/* Python version 2 */\n",
    "PyMODINIT_FUNC\n",
    "initcos_module(void)\n",
    "{\n",
    "    (void) Py_InitModule(\"cos_module\", CosMethods);\n",
    "}\n",
    "\n",
    "#endif\n",
    "```"
   ]
  },
  {
   "cell_type": "markdown",
   "metadata": {},
   "source": [
    "Как вы можете видеть, существует много шаблонного, как для «массирования» аргументов и возвращаемых типов, так и для инициализации модуля. Хотя часть этого амортизируется по мере роста расширения, шаблон, необходимый для каждой функции, остается.\n",
    "\n",
    "Стандартная система сборки python distutils поддерживает компиляцию C-расширений из setup.py, что довольно удобно:"
   ]
  },
  {
   "cell_type": "markdown",
   "metadata": {},
   "source": [
    "```Python\n",
    "from distutils.core import setup, Extension\n",
    "\n",
    "# define the extension module\n",
    "cos_module = Extension('cos_module', sources=['cos_module.c'])\n",
    "\n",
    "# run the setup\n",
    "setup(ext_modules=[cos_module])\n",
    "```"
   ]
  },
  {
   "cell_type": "markdown",
   "metadata": {},
   "source": [
    "Компиляция:"
   ]
  },
  {
   "cell_type": "raw",
   "metadata": {},
   "source": [
    "$ cd advanced/interfacing_with_c/python_c_api\n",
    "$ python setup.py build_ext --inplace"
   ]
  },
  {
   "cell_type": "markdown",
   "metadata": {},
   "source": [
    "- `build_ext` для сборки модулей расширения\n",
    "- `--inplace` выведет скомпилированный модуль расширения в текущий каталог"
   ]
  },
  {
   "cell_type": "markdown",
   "metadata": {},
   "source": [
    "Файл `cos_module.so` содержит скомпилированное расширение, которое мы теперь можем загрузить в интерпретаторе IPython:\n",
    "```Python\n",
    "import cos_module\n",
    "cos_module?\n",
    "dir(cos_module)\n",
    "cos_module.cos_func(1.0)\n",
    "```"
   ]
  },
  {
   "cell_type": "markdown",
   "metadata": {},
   "source": [
    "1. [Прототип лабораторной работы по созданию модулей на Си](https://docs.google.com/document/d/1lXbsgWJUiGKM8jn_npiei0vVjDZwJsC7xcgp6W7Q_ss/edit?usp=sharing)\n",
    "\n",
    "2. [Building a Python C Extension Module](https://realpython.com/build-python-c-extension-module/)"
   ]
  },
  {
   "cell_type": "markdown",
   "metadata": {},
   "source": [
    "### NumPy API\n",
    "\n",
    "По аналогии с Python-C-API, Numpy, который сам реализован как расширение C, поставляется с [Numpy-C-API](https://docs.scipy.org/doc/numpy/reference/c-api.html). Этот API может использоваться для создания и управления массивами Numpy из C при написании собственного C-расширения. "
   ]
  },
  {
   "cell_type": "markdown",
   "metadata": {},
   "source": [
    "В следующем примере показано, как передавать массивы Numpy в качестве аргументов в функции и как перебирать массивы Numpy с помощью (старого) Numpy-C-API. Он просто принимает массив в качестве аргумента, применяет функцию косинуса из math.h и возвращает полученный новый массив."
   ]
  },
  {
   "cell_type": "markdown",
   "metadata": {},
   "source": [
    "```C\n",
    "/*  Example of wrapping the cos function from math.h using the Numpy-C-API. */\n",
    "\n",
    "#include <Python.h>\n",
    "#include <numpy/arrayobject.h>\n",
    "#include <math.h>\n",
    "\n",
    "/*  wrapped cosine function */\n",
    "static PyObject* cos_func_np(PyObject* self, PyObject* args)\n",
    "{\n",
    "\n",
    "    PyArrayObject *in_array;\n",
    "    PyObject      *out_array;\n",
    "    NpyIter *in_iter;\n",
    "    NpyIter *out_iter;\n",
    "    NpyIter_IterNextFunc *in_iternext;\n",
    "    NpyIter_IterNextFunc *out_iternext;\n",
    "\n",
    "    /*  parse single numpy array argument */\n",
    "    if (!PyArg_ParseTuple(args, \"O!\", &PyArray_Type, &in_array))\n",
    "        return NULL;\n",
    "\n",
    "    /*  construct the output array, like the input array */\n",
    "    out_array = PyArray_NewLikeArray(in_array, NPY_ANYORDER, NULL, 0);\n",
    "    if (out_array == NULL)\n",
    "        return NULL;\n",
    "\n",
    "    /*  create the iterators */\n",
    "    in_iter = NpyIter_New(in_array, NPY_ITER_READONLY, NPY_KEEPORDER,\n",
    "                             NPY_NO_CASTING, NULL);\n",
    "    if (in_iter == NULL)\n",
    "        goto fail;\n",
    "\n",
    "    out_iter = NpyIter_New((PyArrayObject *)out_array, NPY_ITER_READWRITE,\n",
    "                          NPY_KEEPORDER, NPY_NO_CASTING, NULL);\n",
    "    if (out_iter == NULL) {\n",
    "        NpyIter_Deallocate(in_iter);\n",
    "        goto fail;\n",
    "    }\n",
    "\n",
    "    in_iternext = NpyIter_GetIterNext(in_iter, NULL);\n",
    "    out_iternext = NpyIter_GetIterNext(out_iter, NULL);\n",
    "    if (in_iternext == NULL || out_iternext == NULL) {\n",
    "        NpyIter_Deallocate(in_iter);\n",
    "        NpyIter_Deallocate(out_iter);\n",
    "        goto fail;\n",
    "    }\n",
    "    double ** in_dataptr = (double **) NpyIter_GetDataPtrArray(in_iter);\n",
    "    double ** out_dataptr = (double **) NpyIter_GetDataPtrArray(out_iter);\n",
    "\n",
    "    /*  iterate over the arrays */\n",
    "    do {\n",
    "        **out_dataptr = cos(**in_dataptr);\n",
    "    } while(in_iternext(in_iter) && out_iternext(out_iter));\n",
    "\n",
    "    /*  clean up and return the result */\n",
    "    NpyIter_Deallocate(in_iter);\n",
    "    NpyIter_Deallocate(out_iter);\n",
    "    Py_INCREF(out_array);\n",
    "    return out_array;\n",
    "\n",
    "    /*  in case bad things happen */\n",
    "    fail:\n",
    "        Py_XDECREF(out_array);\n",
    "        return NULL;\n",
    "}\n",
    "\n",
    "/*  define functions in module */\n",
    "static PyMethodDef CosMethods[] =\n",
    "{\n",
    "     {\"cos_func_np\", cos_func_np, METH_VARARGS,\n",
    "         \"evaluate the cosine on a numpy array\"},\n",
    "     {NULL, NULL, 0, NULL}\n",
    "};\n",
    "\n",
    "\n",
    "#if PY_MAJOR_VERSION >= 3\n",
    "/* module initialization */\n",
    "/* Python version 3*/\n",
    "static struct PyModuleDef cModPyDem = {\n",
    "    PyModuleDef_HEAD_INIT,\n",
    "    \"cos_module\", \"Some documentation\",\n",
    "    -1,\n",
    "    CosMethods\n",
    "};\n",
    "PyMODINIT_FUNC PyInit_cos_module_np(void) {\n",
    "    PyObject *module;\n",
    "    module = PyModule_Create(&cModPyDem);\n",
    "    if(module==NULL) return NULL;\n",
    "    /* IMPORTANT: this must be called */\n",
    "    import_array();\n",
    "    if (PyErr_Occurred()) return NULL;\n",
    "    return module;\n",
    "}\n",
    "\n",
    "#else\n",
    "/* module initialization */\n",
    "/* Python version 2 */\n",
    "PyMODINIT_FUNC initcos_module_np(void) {\n",
    "    PyObject *module;\n",
    "    module = Py_InitModule(\"cos_module_np\", CosMethods);\n",
    "    if(module==NULL) return;\n",
    "    /* IMPORTANT: this must be called */\n",
    "    import_array();\n",
    "    return;\n",
    "}\n",
    "\n",
    "#endif\n",
    "```"
   ]
  },
  {
   "cell_type": "markdown",
   "metadata": {},
   "source": [
    "Для компиляции мы можем снова использовать distutils. Однако мы должны обязательно включать заголовки Numpy с помощью: func: numpy.get_include."
   ]
  },
  {
   "cell_type": "markdown",
   "metadata": {},
   "source": [
    "```Python\n",
    "from distutils.core import setup, Extension\n",
    "import numpy\n",
    "\n",
    "# define the extension module\n",
    "cos_module_np = Extension('cos_module_np', sources=['cos_module_np.c'],\n",
    "                          include_dirs=[numpy.get_include()])\n",
    "\n",
    "# run the setup\n",
    "setup(ext_modules=[cos_module_np])\n",
    "```"
   ]
  },
  {
   "cell_type": "markdown",
   "metadata": {},
   "source": [
    "Чтобы убедиться, что это действительно работает, мы запускаем следующий тестовый скрипт:"
   ]
  },
  {
   "cell_type": "markdown",
   "metadata": {},
   "source": [
    "```Python\n",
    "import cos_module_np\n",
    "import numpy as np\n",
    "import matplotlib.pyplot as plt\n",
    "\n",
    "x = np.arange(0, 2 * np.pi, 0.1)\n",
    "y = cos_module_np.cos_func_np(x)\n",
    "plt.plot(x, y)\n",
    "plt.show()\n",
    "```"
   ]
  },
  {
   "cell_type": "markdown",
   "metadata": {},
   "source": [
    "Про Cython: http://scipy-lectures.org/advanced/interfacing_with_c/interfacing_with_c.html#id10"
   ]
  },
  {
   "cell_type": "code",
   "execution_count": null,
   "metadata": {},
   "outputs": [],
   "source": []
  }
 ],
 "metadata": {
  "kernelspec": {
   "display_name": "Python 3",
   "language": "python",
   "name": "python3"
  },
  "language_info": {
   "codemirror_mode": {
    "name": "ipython",
    "version": 3
   },
   "file_extension": ".py",
   "mimetype": "text/x-python",
   "name": "python",
   "nbconvert_exporter": "python",
   "pygments_lexer": "ipython3",
   "version": "3.7.3"
  }
 },
 "nbformat": 4,
 "nbformat_minor": 2
}
